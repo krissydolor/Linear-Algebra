{
  "nbformat": 4,
  "nbformat_minor": 0,
  "metadata": {
    "colab": {
      "name": "Assignmet 4_Baniquit_Dolor",
      "provenance": [],
      "collapsed_sections": [],
      "authorship_tag": "ABX9TyP6ihSxB09v9YIZuDSLZ47H",
      "include_colab_link": true
    },
    "kernelspec": {
      "name": "python3",
      "display_name": "Python 3"
    },
    "language_info": {
      "name": "python"
    }
  },
  "cells": [
    {
      "cell_type": "markdown",
      "metadata": {
        "id": "view-in-github",
        "colab_type": "text"
      },
      "source": [
        "<a href=\"https://colab.research.google.com/github/krissydolor/Linear-Algebra/blob/master/Assignmet_4_Baniquit_Dolor.ipynb\" target=\"_parent\"><img src=\"https://colab.research.google.com/assets/colab-badge.svg\" alt=\"Open In Colab\"/></a>"
      ]
    },
    {
      "cell_type": "markdown",
      "source": [
        "# **Linear Algebra for ChE**"
      ],
      "metadata": {
        "id": "aPZe5Ak11YWh"
      }
    },
    {
      "cell_type": "markdown",
      "source": [
        "### **Laboratory 6 : Matrix Operations**\n",
        "\n",
        "Now that you have a fundamental knowledge about representing and operating with vectors as well as the fundamentals of matrices, we'll try to the same operations with matrices and even more."
      ],
      "metadata": {
        "id": "JE7-yVyF1eup"
      }
    },
    {
      "cell_type": "markdown",
      "source": [
        "**Objectives**\n",
        "\n",
        "At the end of this activity you will be able to:\n",
        "\n",
        "1. Be familiar with the fundamental matrix operations.\n",
        "2. Apply the operations to solve intemrediate equations.\n",
        "3. Apply matrix algebra in engineering solutions."
      ],
      "metadata": {
        "id": "m33KDf9K1lxE"
      }
    },
    {
      "cell_type": "markdown",
      "source": [
        "## **Discussion**"
      ],
      "metadata": {
        "id": "nvBzqTQs1zK1"
      }
    },
    {
      "cell_type": "code",
      "execution_count": 1,
      "metadata": {
        "id": "l_sYly6V1XR9"
      },
      "outputs": [],
      "source": [
        "import numpy as np\n",
        "import matplotlib.pyplot as plt\n",
        "%matplotlib inline"
      ]
    },
    {
      "cell_type": "markdown",
      "source": [
        "## Transposition\n",
        "\n",
        "The numpy.transpose() method is a critical component of matrix multiplication. This function permutes or reserves the dimensions of an array and returns the resulting array. It reverses the order of the row and column items. This method returns a modified array of the original array."
      ],
      "metadata": {
        "id": "rr2KEwitOpNk"
      }
    },
    {
      "cell_type": "markdown",
      "source": [
        "$$\n",
        "A=\\begin{bmatrix} 1 & 2 & 5 \\\\ 5 & -1 & 0 \\\\ 0 & -3 & 3\\end{bmatrix} \\\\\n",
        "$$"
      ],
      "metadata": {
        "id": "o3h8FZULN0rj"
      }
    },
    {
      "cell_type": "markdown",
      "source": [
        "$$\n",
        "A^T =\\begin{bmatrix} 1 & 5 & 0 \\\\ 2 & -1 & -3 \\\\ 5 & 0 & 3\\end{bmatrix} \\\\\n",
        "$$"
      ],
      "metadata": {
        "id": "nx5oNd3kOgc5"
      }
    },
    {
      "cell_type": "markdown",
      "source": [
        "This can now be achieved programmatically by using `np.transpose()` or using the `T` method."
      ],
      "metadata": {
        "id": "g4kww4qVGBZ1"
      }
    },
    {
      "cell_type": "code",
      "source": [
        "A = np.array([\n",
        "    [1 ,2, 5],\n",
        "    [5, -1, 0],\n",
        "    [0, -3, 3]\n",
        "])\n",
        "A"
      ],
      "metadata": {
        "colab": {
          "base_uri": "https://localhost:8080/"
        },
        "id": "Y_qJfTsTGCxt",
        "outputId": "6613101f-8fb6-4b48-aabf-f65031397f5d"
      },
      "execution_count": 2,
      "outputs": [
        {
          "output_type": "execute_result",
          "data": {
            "text/plain": [
              "array([[ 1,  2,  5],\n",
              "       [ 5, -1,  0],\n",
              "       [ 0, -3,  3]])"
            ]
          },
          "metadata": {},
          "execution_count": 2
        }
      ]
    },
    {
      "cell_type": "code",
      "source": [
        "AT1 = np.transpose(A)\n",
        "AT1"
      ],
      "metadata": {
        "id": "gD8LiLw0GFID",
        "colab": {
          "base_uri": "https://localhost:8080/"
        },
        "outputId": "5ccda3a4-9b63-4c8a-b1b0-094f43960fa4"
      },
      "execution_count": 3,
      "outputs": [
        {
          "output_type": "execute_result",
          "data": {
            "text/plain": [
              "array([[ 1,  5,  0],\n",
              "       [ 2, -1, -3],\n",
              "       [ 5,  0,  3]])"
            ]
          },
          "metadata": {},
          "execution_count": 3
        }
      ]
    },
    {
      "cell_type": "code",
      "source": [
        "AT2 = A.T"
      ],
      "metadata": {
        "id": "dMaFvPNmGGXJ"
      },
      "execution_count": 4,
      "outputs": []
    },
    {
      "cell_type": "code",
      "source": [
        "np.array_equiv(AT1, AT2)"
      ],
      "metadata": {
        "colab": {
          "base_uri": "https://localhost:8080/"
        },
        "id": "Ps81l4udGHnN",
        "outputId": "f2389c3e-50d1-41dd-b23a-5356b05d0d06"
      },
      "execution_count": 5,
      "outputs": [
        {
          "output_type": "execute_result",
          "data": {
            "text/plain": [
              "True"
            ]
          },
          "metadata": {},
          "execution_count": 5
        }
      ]
    },
    {
      "cell_type": "code",
      "source": [
        "B = np.array([\n",
        "    [1,2,3,4],\n",
        "    [1,0,2,1],\n",
        "])\n",
        "B.shape"
      ],
      "metadata": {
        "colab": {
          "base_uri": "https://localhost:8080/"
        },
        "id": "3BZwAYeyGOuT",
        "outputId": "ded49b92-73ce-4eb2-be66-2cb63518acde"
      },
      "execution_count": 6,
      "outputs": [
        {
          "output_type": "execute_result",
          "data": {
            "text/plain": [
              "(2, 4)"
            ]
          },
          "metadata": {},
          "execution_count": 6
        }
      ]
    },
    {
      "cell_type": "code",
      "source": [
        "np.transpose(B).shape"
      ],
      "metadata": {
        "colab": {
          "base_uri": "https://localhost:8080/"
        },
        "id": "Nnkdqz2eGQAu",
        "outputId": "2e15a7f3-6a20-4f14-e36c-1c427e588fd6"
      },
      "execution_count": 7,
      "outputs": [
        {
          "output_type": "execute_result",
          "data": {
            "text/plain": [
              "(4, 2)"
            ]
          },
          "metadata": {},
          "execution_count": 7
        }
      ]
    },
    {
      "cell_type": "code",
      "source": [
        "B.T.shape\n"
      ],
      "metadata": {
        "colab": {
          "base_uri": "https://localhost:8080/"
        },
        "id": "BztXz9oXGR0m",
        "outputId": "e3b19ea6-2d06-4f20-e439-0e094f33b495"
      },
      "execution_count": 8,
      "outputs": [
        {
          "output_type": "execute_result",
          "data": {
            "text/plain": [
              "(4, 2)"
            ]
          },
          "metadata": {},
          "execution_count": 8
        }
      ]
    },
    {
      "cell_type": "markdown",
      "source": [
        "### **Dot Product / Inner Product**\n",
        "\n",
        "Recalling the dot product from laboratory activity before, students will try to implement the same operation with matrices. In matrix dot product we are going to get the sum of products of the vectors by row-column pairs. So if we have two matrices $X$ and $Y$:\n",
        "\n",
        "$$X = \\begin{bmatrix}x_{(0,0)}&x_{(0,1)}\\\\ x_{(1,0)}&x_{(1,1)}\\end{bmatrix}, Y = \\begin{bmatrix}y_{(0,0)}&y_{(0,1)}\\\\ y_{(1,0)}&y_{(1,1)}\\end{bmatrix}$$\n",
        "\n",
        "The dot product will then be computed as:\n",
        "$$X \\cdot Y= \\begin{bmatrix} x_{(0,0)}*y_{(0,0)} + x_{(0,1)}*y_{(1,0)} & x_{(0,0)}*y_{(0,1)} + x_{(0,1)}*y_{(1,1)} \\\\  x_{(1,0)}*y_{(0,0)} + x_{(1,1)}*y_{(1,0)} & x_{(1,0)}*y_{(0,1)} + x_{(1,1)}*y_{(1,1)}\n",
        "\\end{bmatrix}$$\n",
        "\n",
        "So if we assign values to $X$ and $Y$:\n",
        "$$X = \\begin{bmatrix}1&2\\\\ 0&1\\end{bmatrix}, Y = \\begin{bmatrix}-1&0\\\\ 2&2\\end{bmatrix}$$\n",
        "\n"
      ],
      "metadata": {
        "id": "-9b2r0NOGbpG"
      }
    },
    {
      "cell_type": "markdown",
      "source": [
        "$$X \\cdot Y= \\begin{bmatrix} 1*-1 + 2*2 & 1*0 + 2*2 \\\\  0*-1 + 1*2 & 0*0 + 1*2 \\end{bmatrix} = \\begin{bmatrix} 3 & 4 \\\\2 & 2 \\end{bmatrix}$$\n",
        "This could be achieved programmatically using `np.dot()`, `np.matmul()` or the `@` operator."
      ],
      "metadata": {
        "id": "8xI5tkEVQ74I"
      }
    },
    {
      "cell_type": "markdown",
      "source": [
        "######In Python, one method of calculating the dot product would be to take the sum of list comprehension and conduct element-wise multiplication on the elements in the list. Alternatively, we can use the np. dot(), @, and np.matmul() functions to fulfill our objective on an easier method. A dot product of two arrays is the inner product of vectors if both a and b are 1-dimensional arrays, which means there is no complex conjugation.  In contrast, matrix multiplication is essential if a and b are 2-dimensional arrays; nonetheless, matmul or a @ b are equally preferable methods. Numpy's multiplier function can be used in place of arithmetic if either a or b is 0D (scalar). Multiplying (a, b) or a * b is preferable. "
      ],
      "metadata": {
        "id": "7IJNGAwDTWLh"
      }
    },
    {
      "cell_type": "code",
      "source": [
        "X = np.array([\n",
        "    [1,2],\n",
        "    [0,1]\n",
        "])\n",
        "Y = np.array([\n",
        "    [-1,0],\n",
        "    [2,2]\n",
        "])"
      ],
      "metadata": {
        "id": "bo9PxSqAGn30"
      },
      "execution_count": 9,
      "outputs": []
    },
    {
      "cell_type": "code",
      "source": [
        "np.dot(X,Y)"
      ],
      "metadata": {
        "colab": {
          "base_uri": "https://localhost:8080/"
        },
        "id": "v4V0iZhhGqte",
        "outputId": "b819c9e1-73aa-4a9b-8693-581fe0be6aa7"
      },
      "execution_count": 10,
      "outputs": [
        {
          "output_type": "execute_result",
          "data": {
            "text/plain": [
              "array([[3, 4],\n",
              "       [2, 2]])"
            ]
          },
          "metadata": {},
          "execution_count": 10
        }
      ]
    },
    {
      "cell_type": "code",
      "source": [
        "X.dot(Y)"
      ],
      "metadata": {
        "colab": {
          "base_uri": "https://localhost:8080/"
        },
        "id": "mav2fMVMGrzO",
        "outputId": "b2a5b793-b6ce-4dab-a473-646570bde614"
      },
      "execution_count": 11,
      "outputs": [
        {
          "output_type": "execute_result",
          "data": {
            "text/plain": [
              "array([[3, 4],\n",
              "       [2, 2]])"
            ]
          },
          "metadata": {},
          "execution_count": 11
        }
      ]
    },
    {
      "cell_type": "code",
      "source": [
        "X @ Y"
      ],
      "metadata": {
        "colab": {
          "base_uri": "https://localhost:8080/"
        },
        "id": "OabH3WdKWfCo",
        "outputId": "e60f0aa0-ac1c-4028-f9be-e3f31171d9a2"
      },
      "execution_count": 12,
      "outputs": [
        {
          "output_type": "execute_result",
          "data": {
            "text/plain": [
              "array([[3, 4],\n",
              "       [2, 2]])"
            ]
          },
          "metadata": {},
          "execution_count": 12
        }
      ]
    },
    {
      "cell_type": "code",
      "source": [
        "np.matmul(X,Y)"
      ],
      "metadata": {
        "colab": {
          "base_uri": "https://localhost:8080/"
        },
        "id": "6H_IsIXEGthf",
        "outputId": "fc944df7-8ab0-45bf-c630-dfb93a81ae1c"
      },
      "execution_count": 13,
      "outputs": [
        {
          "output_type": "execute_result",
          "data": {
            "text/plain": [
              "array([[3, 4],\n",
              "       [2, 2]])"
            ]
          },
          "metadata": {},
          "execution_count": 13
        }
      ]
    },
    {
      "cell_type": "markdown",
      "source": [
        "In matrix dot products there are additional rules compared with vector dot products. Since vector dot products were just in one dimension there are less restrictions. Since now we are dealing with Rank 2 vectors we need to consider some rules:\n",
        "\n"
      ],
      "metadata": {
        "id": "90aAAPoKGv3_"
      }
    },
    {
      "cell_type": "markdown",
      "source": [
        "### Rule 1: The inner dimensions of the two matrices in question must be the same. \n",
        "\n",
        "So given a matrix $A$ with a shape of $(a,b)$ where $a$ and $b$ are any integers. If we want to do a dot product between $A$ and another matrix $B$, then matrix $B$ should have a shape of $(b,c)$ where $b$ and $c$ are any integers. So for given the following matrices:\n",
        "\n",
        "$$C = \\begin{bmatrix}0&1&2&4\\\\2&5&2&2\\\\0&1&5&6\\end{bmatrix}, \n",
        "D = \\begin{bmatrix}1&1&0\\\\3&3&0\\\\2&5&8\\end{bmatrix}, \n",
        "O = \\begin{bmatrix}2&0&4&5\\\\1&5&2&5\\end{bmatrix}$$\n",
        "\n",
        "So in this case $A$ has a shape of $(3,4)$, $B$ has a shape of $(3,3)$ and $C$ has a shape of $(2,2)$. So the only matrix pairs that is eligible to perform dot product is matrices $A \\cdot C$, or $B \\cdot C$.\n",
        "\n",
        "\n",
        "\n",
        "\n",
        "\n"
      ],
      "metadata": {
        "id": "55BJuuD-GyOv"
      }
    },
    {
      "cell_type": "code",
      "source": [
        "A = np.array([\n",
        "    [2, 4],\n",
        "    [5, -2],\n",
        "    [0, 1]\n",
        "])\n",
        "B = np.array([\n",
        "    [1,1],\n",
        "    [3,3],\n",
        "    [-1,-2]\n",
        "])\n",
        "C = np.array([\n",
        "    [0,1,1],\n",
        "    [1,1,2]\n",
        "])\n",
        "print(A.shape)\n",
        "print(B.shape)\n",
        "print(C.shape)"
      ],
      "metadata": {
        "colab": {
          "base_uri": "https://localhost:8080/"
        },
        "id": "C6gvZhe9G4F1",
        "outputId": "c1f46a61-fbd7-4d9b-94e7-c79cd84ddda8"
      },
      "execution_count": 14,
      "outputs": [
        {
          "output_type": "stream",
          "name": "stdout",
          "text": [
            "(3, 2)\n",
            "(3, 2)\n",
            "(2, 3)\n"
          ]
        }
      ]
    },
    {
      "cell_type": "code",
      "source": [
        "A @ C"
      ],
      "metadata": {
        "colab": {
          "base_uri": "https://localhost:8080/"
        },
        "id": "BkrJ8y3PW3vx",
        "outputId": "8b09d171-4b87-4d36-bec8-2d57e0581c33"
      },
      "execution_count": 15,
      "outputs": [
        {
          "output_type": "execute_result",
          "data": {
            "text/plain": [
              "array([[ 4,  6, 10],\n",
              "       [-2,  3,  1],\n",
              "       [ 1,  1,  2]])"
            ]
          },
          "metadata": {},
          "execution_count": 15
        }
      ]
    },
    {
      "cell_type": "code",
      "source": [
        "B @ C"
      ],
      "metadata": {
        "colab": {
          "base_uri": "https://localhost:8080/"
        },
        "id": "qTP-BxAEW4I1",
        "outputId": "9891543c-2791-40f0-b485-11fab06ec51f"
      },
      "execution_count": 16,
      "outputs": [
        {
          "output_type": "execute_result",
          "data": {
            "text/plain": [
              "array([[ 1,  2,  3],\n",
              "       [ 3,  6,  9],\n",
              "       [-2, -3, -5]])"
            ]
          },
          "metadata": {},
          "execution_count": 16
        }
      ]
    },
    {
      "cell_type": "markdown",
      "source": [
        "If you would notice the shape of the dot product changed and its shape is not the same as any of the matrices we used. The shape of a dot product is actually derived from the shapes of the matrices used. So recall matrix $A$ with a shape of $(a,b)$ and matrix $B$ with a shape of $(b,c)$, $A ⋅ B$ should hace a shape $(a,c)$."
      ],
      "metadata": {
        "id": "Z6MOWQZwW8if"
      }
    },
    {
      "cell_type": "code",
      "source": [
        "A @ B.T"
      ],
      "metadata": {
        "colab": {
          "base_uri": "https://localhost:8080/"
        },
        "id": "Sq8woyY2X1A6",
        "outputId": "330e5229-3fc8-4a1c-f9a3-8e4bd4f45d00"
      },
      "execution_count": 17,
      "outputs": [
        {
          "output_type": "execute_result",
          "data": {
            "text/plain": [
              "array([[  6,  18, -10],\n",
              "       [  3,   9,  -1],\n",
              "       [  1,   3,  -2]])"
            ]
          },
          "metadata": {},
          "execution_count": 17
        }
      ]
    },
    {
      "cell_type": "code",
      "source": [
        "X = np.array([\n",
        "    [1,2,3,0]\n",
        "])\n",
        "Y = np.array([\n",
        "    [1,0,4,-1]\n",
        "])\n",
        "print(X.shape)\n",
        "print(Y.shape)"
      ],
      "metadata": {
        "colab": {
          "base_uri": "https://localhost:8080/"
        },
        "id": "Ym2Cv8E3X0rH",
        "outputId": "d66dcac9-1b55-490a-de67-4842c88738b0"
      },
      "execution_count": 18,
      "outputs": [
        {
          "output_type": "stream",
          "name": "stdout",
          "text": [
            "(1, 4)\n",
            "(1, 4)\n"
          ]
        }
      ]
    },
    {
      "cell_type": "code",
      "source": [
        "Y.T @ X"
      ],
      "metadata": {
        "colab": {
          "base_uri": "https://localhost:8080/"
        },
        "id": "KN7SAsVpYE78",
        "outputId": "a4c3c49b-7baa-4f7d-8217-7913f6e157bb"
      },
      "execution_count": 19,
      "outputs": [
        {
          "output_type": "execute_result",
          "data": {
            "text/plain": [
              "array([[ 1,  2,  3,  0],\n",
              "       [ 0,  0,  0,  0],\n",
              "       [ 4,  8, 12,  0],\n",
              "       [-1, -2, -3,  0]])"
            ]
          },
          "metadata": {},
          "execution_count": 19
        }
      ]
    },
    {
      "cell_type": "markdown",
      "source": [
        "And you can see that when you try to multiply A and B, it returns `ValueError` pertaining to matrix shape mismatch."
      ],
      "metadata": {
        "id": "WD3-zvh0YH9n"
      }
    },
    {
      "cell_type": "markdown",
      "source": [
        "### Rule 2: Dot Product has special properties\n",
        "\n",
        "Dot products are prevalent in matrix algebra, this implies that it has several unique properties and it should be considered when formulation solutions:\n",
        " 1. $A \\cdot B \\neq B \\cdot A$\n",
        " 2. $A \\cdot (B \\cdot C) = (A \\cdot B) \\cdot C$\n",
        " 3. $A\\cdot(B+C) = A\\cdot B + A\\cdot C$\n",
        " 4. $(B+C)\\cdot A = B\\cdot A + C\\cdot A$\n",
        " 5. $A\\cdot I = A$\n",
        " 6. $A\\cdot \\emptyset = \\emptyset$\n"
      ],
      "metadata": {
        "id": "iBGtwhk3atqm"
      }
    },
    {
      "cell_type": "code",
      "source": [
        "A = np.array([\n",
        "    [3,2,1],\n",
        "    [4,5,1],\n",
        "    [1,1,0]\n",
        "])\n",
        "B = np.array([\n",
        "    [4,1,6],\n",
        "    [4,1,9],\n",
        "    [1,4,8]\n",
        "])\n",
        "C = np.array([\n",
        "    [1,1,0],\n",
        "    [0,1,1],\n",
        "    [1,0,1]\n",
        "])"
      ],
      "metadata": {
        "id": "MQROLPmhcOig"
      },
      "execution_count": 20,
      "outputs": []
    },
    {
      "cell_type": "code",
      "source": [
        "A.dot(np.zeros(A.shape))"
      ],
      "metadata": {
        "colab": {
          "base_uri": "https://localhost:8080/"
        },
        "id": "_UEzEe-AcQW8",
        "outputId": "fa30292f-2f7f-4d43-efca-8e683bbf4c50"
      },
      "execution_count": 21,
      "outputs": [
        {
          "output_type": "execute_result",
          "data": {
            "text/plain": [
              "array([[0., 0., 0.],\n",
              "       [0., 0., 0.],\n",
              "       [0., 0., 0.]])"
            ]
          },
          "metadata": {},
          "execution_count": 21
        }
      ]
    },
    {
      "cell_type": "code",
      "source": [
        "z_mat = np.zeros(A.shape)\n",
        "z_mat"
      ],
      "metadata": {
        "colab": {
          "base_uri": "https://localhost:8080/"
        },
        "id": "9hcWnZBDcTtZ",
        "outputId": "3a985bce-37ac-4ad4-c423-07f2e84dbb52"
      },
      "execution_count": 22,
      "outputs": [
        {
          "output_type": "execute_result",
          "data": {
            "text/plain": [
              "array([[0., 0., 0.],\n",
              "       [0., 0., 0.],\n",
              "       [0., 0., 0.]])"
            ]
          },
          "metadata": {},
          "execution_count": 22
        }
      ]
    },
    {
      "cell_type": "code",
      "source": [
        "a_dot_z = A.dot(np.zeros(A.shape))\n",
        "a_dot_z"
      ],
      "metadata": {
        "colab": {
          "base_uri": "https://localhost:8080/"
        },
        "id": "GCsbVsZxcWNo",
        "outputId": "bd8f84d5-167d-433c-e018-96cf80e59037"
      },
      "execution_count": 23,
      "outputs": [
        {
          "output_type": "execute_result",
          "data": {
            "text/plain": [
              "array([[0., 0., 0.],\n",
              "       [0., 0., 0.],\n",
              "       [0., 0., 0.]])"
            ]
          },
          "metadata": {},
          "execution_count": 23
        }
      ]
    },
    {
      "cell_type": "code",
      "source": [
        "np.array_equal(a_dot_z,z_mat)"
      ],
      "metadata": {
        "colab": {
          "base_uri": "https://localhost:8080/"
        },
        "id": "zIjHT5aAcXfJ",
        "outputId": "359b3368-ab6a-4e69-dc45-6b641a6e552f"
      },
      "execution_count": 24,
      "outputs": [
        {
          "output_type": "execute_result",
          "data": {
            "text/plain": [
              "True"
            ]
          },
          "metadata": {},
          "execution_count": 24
        }
      ]
    },
    {
      "cell_type": "code",
      "source": [
        "null_mat = np.empty(A.shape, dtype=float)\n",
        "null = np.array(null_mat,dtype=float)\n",
        "print(null)\n",
        "np.allclose(a_dot_z,null)"
      ],
      "metadata": {
        "colab": {
          "base_uri": "https://localhost:8080/"
        },
        "id": "P3AehdsPcYwC",
        "outputId": "abddd31a-cd29-4474-a9b6-5ac3a02dd638"
      },
      "execution_count": 25,
      "outputs": [
        {
          "output_type": "stream",
          "name": "stdout",
          "text": [
            "[[0. 0. 0.]\n",
            " [0. 0. 0.]\n",
            " [0. 0. 0.]]\n"
          ]
        },
        {
          "output_type": "execute_result",
          "data": {
            "text/plain": [
              "True"
            ]
          },
          "metadata": {},
          "execution_count": 25
        }
      ]
    },
    {
      "cell_type": "code",
      "source": [
        "np.array_equiv(C.dot(B),A)"
      ],
      "metadata": {
        "colab": {
          "base_uri": "https://localhost:8080/"
        },
        "id": "_3a5iNvhbSdP",
        "outputId": "fecc3123-e3e1-4625-f187-814c282ee37f"
      },
      "execution_count": 27,
      "outputs": [
        {
          "output_type": "execute_result",
          "data": {
            "text/plain": [
              "False"
            ]
          },
          "metadata": {},
          "execution_count": 27
        }
      ]
    },
    {
      "cell_type": "markdown",
      "source": [
        "### **Determinant**\n",
        "The matrix's determinant is the scalar value obtained for a given square matrix. Linear algebra is concerned with the determinant, which is calculated using the elements of a square matrix. It may be thought of as the scaling factor for a matrix transformation. Helpful in solving linear equations, computing the inverse of a matrix, and performing calculus operations.\n"
      ],
      "metadata": {
        "id": "NwD9AUDOcpOA"
      }
    },
    {
      "cell_type": "code",
      "source": [
        "A = np.array([\n",
        "    [1,4],\n",
        "    [0,3]\n",
        "])\n",
        "np.linalg.det(A)"
      ],
      "metadata": {
        "colab": {
          "base_uri": "https://localhost:8080/"
        },
        "id": "Gm6SeSN4dB_3",
        "outputId": "ee0de935-e532-433e-85c1-c97f69655872"
      },
      "execution_count": null,
      "outputs": [
        {
          "output_type": "execute_result",
          "data": {
            "text/plain": [
              "3.0000000000000004"
            ]
          },
          "metadata": {},
          "execution_count": 40
        }
      ]
    },
    {
      "cell_type": "code",
      "source": [
        "## Now other mathematics classes would require you to solve this by hand, \n",
        "## and that is great for practicing your memorization and coordination skills \n",
        "## but in this class we aim for simplicity and speed so we'll use programming\n",
        "## but it's completely fine if you want to try to solve this one by hand.\n",
        "B = np.array([\n",
        "    [1,3,5,6],\n",
        "    [0,3,1,3],\n",
        "    [3,1,8,2],\n",
        "    [5,2,6,8]\n",
        "])\n",
        "np.linalg.det(B)"
      ],
      "metadata": {
        "colab": {
          "base_uri": "https://localhost:8080/"
        },
        "id": "ofbAEpPWdDzW",
        "outputId": "827a96b0-caaf-409a-8017-1e6e67433d5a"
      },
      "execution_count": null,
      "outputs": [
        {
          "output_type": "execute_result",
          "data": {
            "text/plain": [
              "-235.0000000000002"
            ]
          },
          "metadata": {},
          "execution_count": 41
        }
      ]
    },
    {
      "cell_type": "markdown",
      "source": [
        "## **Inverse**\n",
        "The idea of the inverse matrix is a multidimensional refinement of the reciprocal of a number. The inverse matrix approach uses the inverse of a matrix to obtain the solution to linear equations. The inverse matrix is necessary because if a matrix rotates and scales a set of vectors, the inverse matrix undo the scalings and rotations to return the original vectors. On the other hand, using NumPy in the Python programming language can perform the concept of the inverse matrix. To calculate the inverse of a matrix, run the numpy.linalg.inv() that will serve as the function. \n",
        "\n",
        "Now to determine the inverse of a matrix we need to perform several steps. So let's say we have a matrix $M$:\n",
        "$$M = \\begin{bmatrix}1&7\\\\-3&5\\end{bmatrix}$$\n",
        "First, we need to get the determinant of $M$.\n",
        "$$|M| = (1)(5)-(-3)(7) = 26$$\n",
        "Next, we need to reform the matrix into the inverse form:\n",
        "$$M^{-1} = \\frac{1}{|M|} \\begin{bmatrix} m_{(1,1)} & -m_{(0,1)} \\\\ -m_{(1,0)} & m_{(0,0)}\\end{bmatrix}$$\n",
        "So that will be:\n",
        "$$M^{-1} = \\frac{1}{26} \\begin{bmatrix} 5 & -7 \\\\ 3 & 1\\end{bmatrix} = \\begin{bmatrix} \\frac{5}{26} & \\frac{-7}{26} \\\\ \\frac{3}{26} & \\frac{1}{26}\\end{bmatrix}$$\n",
        "For higher-dimension matrices you might need to use co-factors, minors, adjugates, and other reduction techinques. To solve this programmatially we can use `np.linalg.inv()`.\n"
      ],
      "metadata": {
        "id": "g5FITOA7dJoo"
      }
    },
    {
      "cell_type": "markdown",
      "source": [
        "The inverse of a matrix is another matrix that produces the multiplicative identity when multiplied by the supplied matrix. $A^{-1}$ is the inverse of a matrix $A$, where $A \\cdot\\ A^{-1} = A^{-1} \\cdot\\ A = I$, where $I$ is the identity matrix."
      ],
      "metadata": {
        "id": "GLEh8AMhRPlg"
      }
    },
    {
      "cell_type": "code",
      "source": [
        "N = np.array([\n",
        "    [2, 2, 9],\n",
        "    [4, -5, 2],\n",
        "    [2, 0, 3]\n",
        "])\n",
        "\n",
        "np.array(N @ np.linalg.inv(N), dtype=int)"
      ],
      "metadata": {
        "colab": {
          "base_uri": "https://localhost:8080/"
        },
        "id": "0I0yrWdYcquO",
        "outputId": "fc3f224a-7806-4761-bfee-cf5bc4b3652b"
      },
      "execution_count": 30,
      "outputs": [
        {
          "output_type": "execute_result",
          "data": {
            "text/plain": [
              "array([[1, 0, 0],\n",
              "       [0, 0, 0],\n",
              "       [0, 0, 0]])"
            ]
          },
          "metadata": {},
          "execution_count": 30
        }
      ]
    },
    {
      "cell_type": "code",
      "source": [
        "P = np.array([\n",
        "    [2, 8, 2],\n",
        "    [5, 2, 0],\n",
        "    [2, 4, 6,]\n",
        "              \n",
        "])\n",
        "Q = np.linalg.inv(P)\n",
        "Q"
      ],
      "metadata": {
        "colab": {
          "base_uri": "https://localhost:8080/"
        },
        "id": "alZ3qbwXdnWB",
        "outputId": "165cfb9b-73c8-402f-81f1-dd9c8da0fbd0"
      },
      "execution_count": 31,
      "outputs": [
        {
          "output_type": "execute_result",
          "data": {
            "text/plain": [
              "array([[-0.06521739,  0.2173913 ,  0.02173913],\n",
              "       [ 0.16304348, -0.04347826, -0.05434783],\n",
              "       [-0.08695652, -0.04347826,  0.19565217]])"
            ]
          },
          "metadata": {},
          "execution_count": 31
        }
      ]
    },
    {
      "cell_type": "code",
      "source": [
        "## And now let's test your skills in solving a matrix with high dimensions:\n",
        "N = np.array([\n",
        "    [18,5,23,1,0,33,5],\n",
        "    [0,45,0,11,2,4,2],\n",
        "    [5,9,20,0,0,0,3],\n",
        "    [1,6,4,4,8,43,1],\n",
        "    [8,6,8,7,1,6,1],\n",
        "    [-5,15,2,0,0,6,-30],\n",
        "    [-2,-5,1,2,1,20,12],\n",
        "])\n",
        "N_inv = np.linalg.inv(N)\n",
        "np.array(N @ N_inv,dtype=int)"
      ],
      "metadata": {
        "colab": {
          "base_uri": "https://localhost:8080/"
        },
        "id": "iSjDxdIbdow8",
        "outputId": "a1815f25-7431-4f30-eca3-0ad7025ea7de"
      },
      "execution_count": 32,
      "outputs": [
        {
          "output_type": "execute_result",
          "data": {
            "text/plain": [
              "array([[0, 0, 0, 0, 0, 0, 0],\n",
              "       [0, 0, 0, 0, 0, 0, 0],\n",
              "       [0, 0, 1, 0, 0, 0, 0],\n",
              "       [0, 0, 0, 1, 0, 0, 0],\n",
              "       [0, 0, 0, 0, 0, 0, 0],\n",
              "       [0, 0, 0, 0, 0, 0, 0],\n",
              "       [0, 0, 0, 0, 0, 0, 0]])"
            ]
          },
          "metadata": {},
          "execution_count": 32
        }
      ]
    },
    {
      "cell_type": "code",
      "source": [
        "P @ Q"
      ],
      "metadata": {
        "colab": {
          "base_uri": "https://localhost:8080/"
        },
        "id": "hAANjloYcyYP",
        "outputId": "a9c559b7-ff68-445b-f7e5-9130b1fc2c97"
      },
      "execution_count": 33,
      "outputs": [
        {
          "output_type": "execute_result",
          "data": {
            "text/plain": [
              "array([[ 1.00000000e+00, -5.55111512e-17,  0.00000000e+00],\n",
              "       [ 0.00000000e+00,  1.00000000e+00,  0.00000000e+00],\n",
              "       [ 2.77555756e-17, -5.55111512e-17,  1.00000000e+00]])"
            ]
          },
          "metadata": {},
          "execution_count": 33
        }
      ]
    },
    {
      "cell_type": "markdown",
      "source": [
        "### **Activity 1**\n",
        "\n",
        "Prove and implement the remaining 6 matrix multiplication properties. You may create your own matrices in which their shapes should not be lower than $(3,3)$. In your methodology, create individual flowcharts for each property and discuss the property you would then present your proofs or validity of your implementation in the results section by comparing your result to present functions from NumPy."
      ],
      "metadata": {
        "id": "Z8e5JfZqMik6"
      }
    },
    {
      "cell_type": "code",
      "source": [
        "A = np.array([\n",
        "    [3,2,1,5],\n",
        "    [4,5,1,6],\n",
        "    [1,1,0,6],\n",
        "    [1,7,8,7]\n",
        "])\n",
        "B = np.array([\n",
        "    [4,1,6,7],\n",
        "    [4,1,9,3],\n",
        "    [1,4,8,3],\n",
        "    [1,4,8,3]\n",
        "])\n",
        "C = np.array([\n",
        "    [1,2,3,4],\n",
        "    [5,6,7,8],\n",
        "    [9,0,1,2],\n",
        "    [3,4,5,6]\n",
        "])\n",
        "\n",
        "AB = np.matmul(A,B)\n",
        "BA = np.matmul(B,A)\n",
        "AC = np.matmul(A,C)\n",
        "CA = np.matmul(C,A)\n",
        "BC = np.matmul(B,C)\n",
        "CB = np.matmul(C,B)\n",
        "K = (AB)+(AC)\n",
        "P = (BA)+(CA)"
      ],
      "metadata": {
        "id": "Zu05UHogi_g0"
      },
      "execution_count": 34,
      "outputs": []
    },
    {
      "cell_type": "markdown",
      "source": [
        "1. $A \\cdot\\ B \\neq\\ B \\cdot\\ A$"
      ],
      "metadata": {
        "id": "b3pNobv_n_bg"
      }
    },
    {
      "cell_type": "code",
      "source": [
        "print('Matrix AB:')\n",
        "print(np.matmul(A,B))\n",
        "print(f'Shape of Matrix AB:\\t{np.matmul(A,B).shape}')"
      ],
      "metadata": {
        "colab": {
          "base_uri": "https://localhost:8080/"
        },
        "id": "31rQnuQcmCqI",
        "outputId": "54296308-e16c-4fb7-e926-ccdb81d34672"
      },
      "execution_count": null,
      "outputs": [
        {
          "output_type": "stream",
          "name": "stdout",
          "text": [
            "Matrix AB:\n",
            "[[ 26  29  84  45]\n",
            " [ 43  37 125  64]\n",
            " [ 14  26  63  28]\n",
            " [ 47  68 189  73]]\n",
            "Shape of Matrix AB:\t(4, 4)\n"
          ]
        }
      ]
    },
    {
      "cell_type": "code",
      "source": [
        "print('Matrix BA:')\n",
        "print(np.matmul(B,A))\n",
        "print(f'Shape of Matrix BA:\\t{np.matmul(B,A).shape}')"
      ],
      "metadata": {
        "colab": {
          "base_uri": "https://localhost:8080/"
        },
        "id": "Xm-NNA3HpJSC",
        "outputId": "a425533b-4812-42fe-ab76-588547e31ac1"
      },
      "execution_count": null,
      "outputs": [
        {
          "output_type": "stream",
          "name": "stdout",
          "text": [
            "Matrix BA:\n",
            "[[ 29  68  61 111]\n",
            " [ 28  43  29 101]\n",
            " [ 30  51  29  98]\n",
            " [ 30  51  29  98]]\n",
            "Shape of Matrix BA:\t(4, 4)\n"
          ]
        }
      ]
    },
    {
      "cell_type": "markdown",
      "source": [
        "2. $A \\cdot\\ (B \\cdot\\ C) = (A \\cdot\\ B) \\cdot\\ C$"
      ],
      "metadata": {
        "id": "aKB7vJ4MoVbp"
      }
    },
    {
      "cell_type": "code",
      "source": [
        "print('Matrix A(BC):')\n",
        "print(np.matmul(A,BC))\n",
        "print(f'Shape of Matrix A(BC):\\t{np.matmul(A,BC).shape}')"
      ],
      "metadata": {
        "colab": {
          "base_uri": "https://localhost:8080/"
        },
        "id": "CnN1O2glrjmZ",
        "outputId": "9cef1a12-7f68-4ce3-988d-7149955b2709"
      },
      "execution_count": null,
      "outputs": [
        {
          "output_type": "stream",
          "name": "stdout",
          "text": [
            "Matrix A(BC):\n",
            "[[1062  406  590  774]\n",
            " [1545  564  833 1102]\n",
            " [ 795  296  427  558]\n",
            " [2307  794 1171 1548]]\n",
            "Shape of Matrix A(BC):\t(4, 4)\n"
          ]
        }
      ]
    },
    {
      "cell_type": "code",
      "source": [
        "print('Matrix (AB)C:')\n",
        "print(np.matmul(AB,C))\n",
        "print(f'Shape of Matrix (AB)C:\\t{np.matmul(AB,C).shape}')"
      ],
      "metadata": {
        "colab": {
          "base_uri": "https://localhost:8080/"
        },
        "id": "ii00c0dIsE0f",
        "outputId": "60ca8546-b257-43b5-d79d-c8ee79a3d438"
      },
      "execution_count": null,
      "outputs": [
        {
          "output_type": "stream",
          "name": "stdout",
          "text": [
            "Matrix (AB)C:\n",
            "[[1062  406  590  774]\n",
            " [1545  564  833 1102]\n",
            " [ 795  296  427  558]\n",
            " [2307  794 1171 1548]]\n",
            "Shape of Matrix (AB)C:\t(4, 4)\n"
          ]
        }
      ]
    },
    {
      "cell_type": "markdown",
      "source": [
        "3. $A\\cdot\\ (B+C) = A\\cdot\\ B + A\\cdot\\ C$"
      ],
      "metadata": {
        "id": "7LTVg4DfrkMP"
      }
    },
    {
      "cell_type": "code",
      "source": [
        "print('Matrix A(B+C):')\n",
        "print(np.matmul(A,B+C))\n",
        "print(f'Shape of Matrix A(B+C):\\t{np.matmul(A,B+C).shape}')"
      ],
      "metadata": {
        "colab": {
          "base_uri": "https://localhost:8080/"
        },
        "id": "HJw7F6jarm4p",
        "outputId": "5ec2da44-80b0-4554-8b2a-950b44e6985c"
      },
      "execution_count": null,
      "outputs": [
        {
          "output_type": "stream",
          "name": "stdout",
          "text": [
            "Matrix A(B+C):\n",
            "[[ 63  67 133 105]\n",
            " [ 99  99 203 158]\n",
            " [ 38  58 103  76]\n",
            " [176 140 284 191]]\n",
            "Shape of Matrix A(B+C):\t(4, 4)\n"
          ]
        }
      ]
    },
    {
      "cell_type": "code",
      "source": [
        "print('Matrix (AB)+(AC):')\n",
        "print(K)\n",
        "print(f'Shape of Matrix (AB)C:\\t{K.shape}')"
      ],
      "metadata": {
        "colab": {
          "base_uri": "https://localhost:8080/"
        },
        "id": "to3kA8xotmHa",
        "outputId": "4e810342-0290-4239-fec4-ab23d6cbd40e"
      },
      "execution_count": null,
      "outputs": [
        {
          "output_type": "stream",
          "name": "stdout",
          "text": [
            "Matrix (AB)+(AC):\n",
            "[[ 63  67 133 105]\n",
            " [ 99  99 203 158]\n",
            " [ 38  58 103  76]\n",
            " [176 140 284 191]]\n",
            "Shape of Matrix (AB)C:\t(4, 4)\n"
          ]
        }
      ]
    },
    {
      "cell_type": "markdown",
      "source": [
        "3. $A\\cdot\\ (B+C) = A\\cdot\\ B + A\\cdot\\ C$"
      ],
      "metadata": {
        "id": "pkgdE6efc8YE"
      }
    },
    {
      "cell_type": "code",
      "source": [
        "print('Matrix A(B+C):')\n",
        "print(np.matmul(A,B+C))\n",
        "print(f'Shape of Matrix A(B+C):\\t{np.matmul(A,B+C).shape}')"
      ],
      "metadata": {
        "colab": {
          "base_uri": "https://localhost:8080/"
        },
        "id": "c7nyq-RMc8v8",
        "outputId": "92c77198-3461-410f-a914-cc48daf5339f"
      },
      "execution_count": 35,
      "outputs": [
        {
          "output_type": "stream",
          "name": "stdout",
          "text": [
            "Matrix A(B+C):\n",
            "[[ 63  67 133 105]\n",
            " [ 99  99 203 158]\n",
            " [ 38  58 103  76]\n",
            " [176 140 284 191]]\n",
            "Shape of Matrix A(B+C):\t(4, 4)\n"
          ]
        }
      ]
    },
    {
      "cell_type": "code",
      "source": [
        "print('Matrix (AB)+(AC):')\n",
        "print(K)\n",
        "print(f'Shape of Matrix (AB)C:\\t{K.shape}')"
      ],
      "metadata": {
        "colab": {
          "base_uri": "https://localhost:8080/"
        },
        "id": "rZbZ6A-NdBxg",
        "outputId": "6e69a6c9-8025-4f0d-f1bb-66166242ae0d"
      },
      "execution_count": 36,
      "outputs": [
        {
          "output_type": "stream",
          "name": "stdout",
          "text": [
            "Matrix (AB)+(AC):\n",
            "[[ 63  67 133 105]\n",
            " [ 99  99 203 158]\n",
            " [ 38  58 103  76]\n",
            " [176 140 284 191]]\n",
            "Shape of Matrix (AB)C:\t(4, 4)\n"
          ]
        }
      ]
    },
    {
      "cell_type": "markdown",
      "source": [
        "4. $(B+C)\\cdot A = B\\cdot A + C\\cdot A$"
      ],
      "metadata": {
        "id": "ScSnlPSEdEnw"
      }
    },
    {
      "cell_type": "code",
      "source": [
        "print('Matrix B+C(A):')\n",
        "print(np.matmul(B+C,A))\n",
        "print(f'Shape of Matrix B+C(A):\\t{np.matmul(B+C,A).shape}')"
      ],
      "metadata": {
        "colab": {
          "base_uri": "https://localhost:8080/"
        },
        "id": "TNFDPyiCdFAT",
        "outputId": "6626355a-f581-49b8-a5e9-eb5c70da3ec1"
      },
      "execution_count": 37,
      "outputs": [
        {
          "output_type": "stream",
          "name": "stdout",
          "text": [
            "Matrix B+C(A):\n",
            "[[ 47 111  96 174]\n",
            " [ 82 146 104 260]\n",
            " [ 60  84  54 163]\n",
            " [ 66 124  84 209]]\n",
            "Shape of Matrix B+C(A):\t(4, 4)\n"
          ]
        }
      ]
    },
    {
      "cell_type": "code",
      "source": [
        "print('Matrix (BA)+(CA):')\n",
        "print(P)\n",
        "print(f'Shape of Matrix (BC)A:\\t{P.shape}')"
      ],
      "metadata": {
        "colab": {
          "base_uri": "https://localhost:8080/"
        },
        "id": "uppSrR-vdFZS",
        "outputId": "f8b84235-51e5-47ec-af86-72ae3e06a1b8"
      },
      "execution_count": 38,
      "outputs": [
        {
          "output_type": "stream",
          "name": "stdout",
          "text": [
            "Matrix (BA)+(CA):\n",
            "[[ 47 111  96 174]\n",
            " [ 82 146 104 260]\n",
            " [ 60  84  54 163]\n",
            " [ 66 124  84 209]]\n",
            "Shape of Matrix (BC)A:\t(4, 4)\n"
          ]
        }
      ]
    },
    {
      "cell_type": "markdown",
      "source": [
        " 5. $A\\cdot I = A$\n"
      ],
      "metadata": {
        "id": "3tLWX3xBdKHV"
      }
    },
    {
      "cell_type": "code",
      "source": [
        "A.dot(1)"
      ],
      "metadata": {
        "colab": {
          "base_uri": "https://localhost:8080/"
        },
        "id": "v4RKuSmadMPf",
        "outputId": "f35471a2-2f32-4c07-d41c-26d1e1b2ba9e"
      },
      "execution_count": 39,
      "outputs": [
        {
          "output_type": "execute_result",
          "data": {
            "text/plain": [
              "array([[3, 2, 1, 5],\n",
              "       [4, 5, 1, 6],\n",
              "       [1, 1, 0, 6],\n",
              "       [1, 7, 8, 7]])"
            ]
          },
          "metadata": {},
          "execution_count": 39
        }
      ]
    },
    {
      "cell_type": "markdown",
      "source": [
        " 6. $A\\cdot \\emptyset = \\emptyset$"
      ],
      "metadata": {
        "id": "Tcig0kugdP_w"
      }
    },
    {
      "cell_type": "code",
      "source": [
        "A.dot(np.zeros(A.shape))"
      ],
      "metadata": {
        "colab": {
          "base_uri": "https://localhost:8080/"
        },
        "id": "Io5vVxIOdOu-",
        "outputId": "5805ce84-4bde-4e21-aac4-6c59265adc25"
      },
      "execution_count": 40,
      "outputs": [
        {
          "output_type": "execute_result",
          "data": {
            "text/plain": [
              "array([[0., 0., 0., 0.],\n",
              "       [0., 0., 0., 0.],\n",
              "       [0., 0., 0., 0.],\n",
              "       [0., 0., 0., 0.]])"
            ]
          },
          "metadata": {},
          "execution_count": 40
        }
      ]
    },
    {
      "cell_type": "code",
      "source": [
        "A.dot(0)"
      ],
      "metadata": {
        "colab": {
          "base_uri": "https://localhost:8080/"
        },
        "id": "n0KZ_G3YdQgc",
        "outputId": "93db2ebf-5526-48b1-baa5-a1dc47da65b5"
      },
      "execution_count": 41,
      "outputs": [
        {
          "output_type": "execute_result",
          "data": {
            "text/plain": [
              "array([[0, 0, 0, 0],\n",
              "       [0, 0, 0, 0],\n",
              "       [0, 0, 0, 0],\n",
              "       [0, 0, 0, 0]])"
            ]
          },
          "metadata": {},
          "execution_count": 41
        }
      ]
    }
  ]
}